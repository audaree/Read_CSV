{
 "cells": [
  {
   "cell_type": "code",
   "execution_count": null,
   "id": "496ff744",
   "metadata": {},
   "outputs": [],
   "source": [
    "#####################\n",
    "using CSV\n",
    "using Dates, DataFrames\n",
    "using NativeFileDialog\n",
    "using Plots, Printf\n",
    "\n",
    "# Widen screen for better viewing\n",
    "display(\"text/html\", \"<style>.container { width:100% !important; }</style>\")\n",
    "\n",
    "# select directory\n",
    "csv_directory = pick_folder()\n",
    "\n",
    "# build list of all csv files in selected directory\n",
    "csv_files = filter(x->occursin(\".csv\",x), readdir(csv_directory));\n",
    "\n",
    "#try\n",
    "\n",
    "    # select the 0xf20 file\n",
    "    f20_file_name = csv_files[findfirst(contains(\"{0xF20}\"),csv_files[findall(x->endswith(uppercase(x), \".CSV\"), csv_files)])];\n",
    "\n",
    "    f20_file = joinpath(csv_directory,f20_file_name)\n",
    "\n",
    "    # create a df to hold the f20 data\n",
    "    f20_df = DataFrame(CSV.File(f20_file,header=0, delim=\"\\t\"));\n",
    "\n",
    "# select the 0xf21 file\n",
    "    f21_file_name = csv_files[findfirst(contains(\"{0xF21}\"),csv_files[findall(x->endswith(uppercase(x), \".CSV\"), csv_files)])];\n",
    "\n",
    "    f21_file = joinpath(csv_directory,f21_file_name)\n",
    "\n",
    "    # create a df to hold the f21 data\n",
    "    f21_df = DataFrame(CSV.File(f21_file,header=0, delim=\"\\t\"));\n",
    "#end\n",
    "\n",
    "f20_df_copy = copy(f20_df)\n",
    "f21_df_copy = copy(f21_df);"
   ]
  },
  {
   "cell_type": "code",
   "execution_count": null,
   "id": "ffcfa84c",
   "metadata": {},
   "outputs": [],
   "source": [
    "f20_df = copy(f20_df_copy)\n",
    "f21_df = copy(f21_df_copy);"
   ]
  },
  {
   "cell_type": "code",
   "execution_count": null,
   "id": "a1b19ecb",
   "metadata": {},
   "outputs": [],
   "source": [
    "Spectra = []\n",
    "Direction = []\n",
    "Spread = []\n",
    "\n",
    "# Process Heave spectrum message (0xF20)\n",
    "for i in 1:nrow(f20_df)\n",
    "    push!(Spectra,Array(f20_df[i, 4:103])')\n",
    "end\n",
    "\n",
    "f20_df.Spectra = Spectra\n",
    "\n",
    "[select!(f20_df, Not(j)) for j in [\"Column$i\" for i in 4:103]]\n",
    "    \n",
    "# convert Epoch seconds to UTC\n",
    "insertcols!(f20_df, 1,  :Date =>  unix2datetime.(f20_df.Column1))\n",
    "\n",
    "[select!(f20_df, Not(j)) for j in [\"Column$i\" for i in 1:2]]\n",
    "    \n",
    "# Process Primary directional spectrum message (0xF21)\n",
    "for i in 1:nrow(f21_df)\n",
    "    push!(Direction,Array(f21_df[i, 4:103])')\n",
    "    push!(Spread,Array(f21_df[i, 104:203])')\n",
    "end\n",
    "\n",
    "f21_df.Direction = Direction\n",
    "f21_df.Spread = Spread\n",
    "\n",
    "[select!(f21_df, Not(j)) for j in [\"Column$i\" for i in 4:203]];\n",
    "            \n",
    "# convert Epoch seconds to UTC\n",
    "insertcols!(f21_df, 1,  :Date =>  unix2datetime.(f21_df.Column1))\n",
    "\n",
    "[select!(f21_df, Not(j)) for j in [\"Column$i\" for i in 1:3]];\n",
    "                "
   ]
  },
  {
   "cell_type": "code",
   "execution_count": null,
   "id": "5438e221",
   "metadata": {},
   "outputs": [],
   "source": [
    "merged_df = innerjoin(f20_df, f21_df, on = :Date)"
   ]
  },
  {
   "cell_type": "code",
   "execution_count": null,
   "id": "7f29fcef",
   "metadata": {},
   "outputs": [],
   "source": [
    "p1 = Plots.plot()\n",
    "\n",
    "[p1 = Plots.plot!(merged_df.Spectra[i]', label=\"\") for i in 1:20]\n",
    "\n",
    "display(p1)"
   ]
  },
  {
   "cell_type": "code",
   "execution_count": null,
   "id": "39ea8839",
   "metadata": {},
   "outputs": [],
   "source": []
  }
 ],
 "metadata": {
  "kernelspec": {
   "display_name": "Julia 1.10.4",
   "language": "julia",
   "name": "julia-1.10"
  },
  "language_info": {
   "file_extension": ".jl",
   "mimetype": "application/julia",
   "name": "julia",
   "version": "1.10.4"
  }
 },
 "nbformat": 4,
 "nbformat_minor": 5
}
